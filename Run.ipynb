{
 "cells": [
  {
   "cell_type": "code",
   "execution_count": 1,
   "id": "af90e6ef-dc65-4832-bc99-9704317f3ec4",
   "metadata": {},
   "outputs": [],
   "source": [
    "import FetchAlphaFoldPDBs as FETCH"
   ]
  },
  {
   "cell_type": "markdown",
   "id": "bdc9ba9a-02b9-457b-be84-3d9f2e1c5054",
   "metadata": {},
   "source": [
    "See walkthrough for function details\n",
    "\n",
    "#### Config\n",
    "\n",
    "- **RUN_NAME**: *Name used to create output folders/collected pdb directory*\n",
    "- **OUTPUT_DIR**: *Directory to store outputs*\n",
    "- **PATH_TO_UNIPROTID_CSV**: *csv containing list of uniprot IDs to query AlphaFold PDB Database*\n",
    "- **ID_FEATURE_NAME**: _Name of the column in above csv specifying the uniprot ID (default: 'Uniprot_ID' creatively...)_\n",
    "- **LOCAL_ALPHAFOLD_PDB_DIRECTORIES**: *Directories to check if pdb already present locally (do not include 'collected' pdb directory), default: None*\n",
    "- DataBase Info:\n",
    "  - ACCESSION_DB_PATH: *Path to local database of the accession IDs (csv available from [AlphaFolds FTP server](http://ftp.ebi.ac.uk/pub/databases/alphafold/))* \n",
    "  - ACCESSION_ID_TABLE_NAME: *table name for accession_ids in database*\n",
    "  - TABLE_UNIPROT_ID_FEATURE_NAME: *table feature name for uniprot IDs, shouldn't change*\n",
    " - ALPHAFOLD_ENDPOINT: https of AlphaFold to pull pdbs, shouldn't change from https://alphafold.ebi.ac.uk/files/\n",
    "  \n",
    "#### Outputs\n",
    "- Creates a file '[RUN_NAME]\\_AF\\_info.csv' which indicates whether an AlphaFold match was found for ID\n",
    "- Creates a directory '[RUN_NAME]\\_AF\\_PDBs' containing all AlphaFold PDBs that could be found/pulled for list of IDs\n",
    "- Creates a file '[RUN_NAME]\\_AF\\_info_with_PDB_paths.csv' which is info from '[RUN_NAME]\\_AF\\_info.csv' with local path to PDB if PDB reachable\n"
   ]
  },
  {
   "cell_type": "code",
   "execution_count": 2,
   "id": "ffe6bb5d-3708-4125-a4c9-703a2bc531b1",
   "metadata": {},
   "outputs": [],
   "source": [
    "CONFIG = {\n",
    "    'RUN_NAME': 'test',\n",
    "    'OUTPUT_DIR': './test/',\n",
    "    'PATH_TO_UNIPROTID_CSV': './demo_datasets/demo_llps_minus.csv',\n",
    "    'ID_FEATURE_NAME': \"Uniprot_ID\",\n",
    "    'LOCAL_ALPHAFOLD_PDB_DIRECTORIES': None,\n",
    "\n",
    "    # STATIC\n",
    "    'ACCESSION_DB_PATH': \".\\\\..\\\\AlphaFold\\\\accession_id_db.db\",\n",
    "    'ACCESSION_ID_TABLE_NAME': \"accession_ids\",\n",
    "    'TABLE_UNIPROT_ID_FEATURE_NAME': \"UniProtAccessionID\",\n",
    "    'ALPHAFOLD_ENDPOINT': 'https://alphafold.ebi.ac.uk/files/'\n",
    "}"
   ]
  },
  {
   "cell_type": "code",
   "execution_count": 3,
   "id": "ddf27195-42b8-4f25-a7e4-3ab8677d63ac",
   "metadata": {},
   "outputs": [
    {
     "name": "stdout",
     "output_type": "stream",
     "text": [
      "Found 84 IDs, 52 unique IDs\n",
      "Checking which have AlphaFold entries\n",
      "52 IDs ran, 50 matches, 2 no match\n",
      "Fetching PDBs for IDs with entries\n",
      "- - - FINISHED - - - \n",
      "52 IDs ran, 50 PDBs found, 2 no PDB found\n"
     ]
    }
   ],
   "source": [
    "FETCH.Uniprot_Full(CONFIG)"
   ]
  },
  {
   "cell_type": "code",
   "execution_count": 3,
   "id": "4b2eecbf-3661-447f-bd28-0bebdf400b2f",
   "metadata": {},
   "outputs": [
    {
     "name": "stdout",
     "output_type": "stream",
     "text": [
      "Found 84 IDs, 52 unique IDs\n",
      "- - - FINISHED - - - \n",
      "52 IDs ran, 46 PDBs found, 6 no PDB found\n"
     ]
    }
   ],
   "source": [
    "FETCH.Uniprot_Quick(CONFIG, assumedVersion=4)"
   ]
  },
  {
   "cell_type": "code",
   "execution_count": null,
   "id": "ad96ca93-47ac-4721-9f3a-fcf8451cff90",
   "metadata": {},
   "outputs": [],
   "source": []
  }
 ],
 "metadata": {
  "kernelspec": {
   "display_name": "Python [conda env:bio_play]",
   "language": "python",
   "name": "conda-env-bio_play-py"
  },
  "language_info": {
   "codemirror_mode": {
    "name": "ipython",
    "version": 3
   },
   "file_extension": ".py",
   "mimetype": "text/x-python",
   "name": "python",
   "nbconvert_exporter": "python",
   "pygments_lexer": "ipython3",
   "version": "3.10.8"
  }
 },
 "nbformat": 4,
 "nbformat_minor": 5
}
