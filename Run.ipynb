{
 "cells": [
  {
   "cell_type": "code",
   "execution_count": 3,
   "id": "af90e6ef-dc65-4832-bc99-9704317f3ec4",
   "metadata": {},
   "outputs": [],
   "source": [
    "import FetchAlphaFoldPDBs as FETCH\n",
    "import os"
   ]
  },
  {
   "cell_type": "markdown",
   "id": "bdc9ba9a-02b9-457b-be84-3d9f2e1c5054",
   "metadata": {},
   "source": [
    "#### Config\n",
    "\n",
    "See Walkthrough for details\n",
    "\n",
    "Provide list of unique uniprotIDs\n",
    "\n",
    "Change run name, run all cells"
   ]
  },
  {
   "cell_type": "code",
   "execution_count": 7,
   "id": "aa9d6dc6-7c62-4b27-9252-a1884e2b655c",
   "metadata": {},
   "outputs": [],
   "source": [
    "# CHANGE FOR RUN\n",
    "RUN_NAME = None\n",
    "LOCAL_ALPHAFOLD_PDB_DIRECTORIES = None"
   ]
  },
  {
   "cell_type": "code",
   "execution_count": 8,
   "id": "03474b6c-0fe2-4363-b7e2-19fb3347c481",
   "metadata": {},
   "outputs": [],
   "source": [
    "# Get Unique IDs\n",
    "uniqueUniProtIDs = None"
   ]
  },
  {
   "cell_type": "code",
   "execution_count": 9,
   "id": "42a03435-555c-4a5c-920f-0a7c06bf6e7a",
   "metadata": {},
   "outputs": [],
   "source": [
    "# STATIC\n",
    "ACCESSION_DB_PATH = \".\\\\..\\\\AlphaFold\\\\accession_id_db.db\"\n",
    "ACCESSION_ID_TABLE_NAME = \"accession_ids\"\n",
    "TABLE_UNIPROT_ID_FEATURE_NAME = \"UniProtAccessionID\"\n",
    "TABLE_ALPHAFOLD_DB_ID_FEATURE_NAME = \"AlphaFoldDBID\"\n",
    "\n",
    "# VARIABLE\n",
    "AF_INFO_OUTPUT_FILEPATH = f'./{RUN_NAME}_AF_info.csv'\n",
    "COLLECTED_PDBS_DIR = f'{RUN_NAME}_PDBs'\n",
    "os.makedirs(COLLECTED_PDBS_DIR, exist_ok=True)\n",
    "FINAL_OUTPUT_PATH = f'./{RUN_NAME}_AF_info_with_PDB_paths.csv'"
   ]
  },
  {
   "cell_type": "code",
   "execution_count": 2,
   "id": "2f8bb97c-1636-4470-a80b-62b124f9de44",
   "metadata": {},
   "outputs": [],
   "source": [
    "# Set Up DB Connection\n",
    "conn = sqlite3.connect(ACCESSION_DB_PATH)\n",
    "cur = conn.cursor()"
   ]
  },
  {
   "cell_type": "code",
   "execution_count": null,
   "id": "89d76aca-6ec4-4f0c-aaab-6b7edd1f3c2a",
   "metadata": {},
   "outputs": [],
   "source": [
    "AF_info = FETCH.getAndSaveAFinfoForListOfUniProtIDs(cur, uniqueUniProtIDs, OUTPUT_FILEPATH, debug=False)"
   ]
  },
  {
   "cell_type": "code",
   "execution_count": null,
   "id": "edff1bb8-1de3-4a2c-8c36-4f19a3b5a970",
   "metadata": {},
   "outputs": [],
   "source": [
    "AF_info_with_PDB_paths = FETCH.fetchPDBsFromAlphaFoldInfoDataFrame(AF_info, COLLECTED_PDBS_DIR, ALPHAFOLD_PDB_DIRECTORIES, outputPath=FINAL_OUTPUT_PATH, debug = False)"
   ]
  }
 ],
 "metadata": {
  "kernelspec": {
   "display_name": "Python [conda env:bio_play]",
   "language": "python",
   "name": "conda-env-bio_play-py"
  },
  "language_info": {
   "codemirror_mode": {
    "name": "ipython",
    "version": 3
   },
   "file_extension": ".py",
   "mimetype": "text/x-python",
   "name": "python",
   "nbconvert_exporter": "python",
   "pygments_lexer": "ipython3",
   "version": "3.10.8"
  }
 },
 "nbformat": 4,
 "nbformat_minor": 5
}
