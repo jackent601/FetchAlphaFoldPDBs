{
 "cells": [
  {
   "cell_type": "code",
   "execution_count": 1,
   "id": "af90e6ef-dc65-4832-bc99-9704317f3ec4",
   "metadata": {},
   "outputs": [],
   "source": [
    "import FetchAlphaFoldPDBs as FETCH"
   ]
  },
  {
   "cell_type": "markdown",
   "id": "bdc9ba9a-02b9-457b-be84-3d9f2e1c5054",
   "metadata": {},
   "source": [
    "See walkthrough for function details\n",
    "\n",
    "Three execution options:\n",
    "\n",
    "- *Uniprot_Full*: Checks accession ID database for an exhaustive search of AlphaFold entries relating to uniprot IDs, for those with matches retrieves the AlphaFold PDBs where possible\n",
    "  - Hence requires local database AlphaFold accession IDs\n",
    "  - Also catches where uniprot ID has a '-' present and will search a 'reduced' ID without hyphen, e.g. PXXXXX-Y will attempt to match to PXXXXX, this is captured in output (and ultimately sequences are checked anyway).\n",
    "- *Uniprot_Guess*: Takes uniprot IDs, *guesses* the name of AlphaFold PDB and attempts to retrieve it\n",
    "  - Convenient if database check if not necessary\n",
    "  - Guess is of the form 'AF-{uniprotID}-F1-model_v{latestVersion}.pdb'\n",
    "\n",
    "- *AlphaFoldPDBs*: Takes a list of AlphaFold PDB names and attempts to retrieve them\n",
    "  - Useful when AlphaFold PDB name is known with confidence\n",
    "\n",
    "\n",
    "#### Config\n",
    "\n",
    "- **RUN_NAME**: *Name used to create output folders/collected pdb directory*\n",
    "- **OUTPUT_DIR**: *Directory to store outputs*\n",
    "- **PATH_TO_UNIPROTID_CSV**: *csv containing list of uniprot IDs to query AlphaFold PDB Database*\n",
    "- **ID_FEATURE_NAME**: _Name of the column in above csv specifying the uniprot ID (default: 'Uniprot_ID' creatively...)_\n",
    "- **LOCAL_ALPHAFOLD_PDB_DIRECTORIES**: *Directories to check if pdb already present locally (do not include 'collected' pdb directory), default: None*\n",
    "- DataBase Info:\n",
    "  - ACCESSION_DB_PATH: *Path to local database of the accession IDs (csv available from [AlphaFolds FTP server](http://ftp.ebi.ac.uk/pub/databases/alphafold/))* \n",
    "  - ACCESSION_ID_TABLE_NAME: *table name for accession_ids in database*\n",
    "  - TABLE_UNIPROT_ID_FEATURE_NAME: *table feature name for uniprot IDs, shouldn't change*\n",
    " - ALPHAFOLD_ENDPOINT: https of AlphaFold to pull pdbs, shouldn't change from https://alphafold.ebi.ac.uk/files/\n",
    "  \n",
    "#### Outputs\n",
    "- Creates a file '[RUN_NAME]\\_AF\\_info.csv' which indicates whether an AlphaFold match was found for ID\n",
    "- Creates a directory '[RUN_NAME]\\_AF\\_PDBs' containing all AlphaFold PDBs that could be found/pulled for list of IDs\n",
    "- Creates a file '[RUN_NAME]\\_AF\\_info_with_PDB_paths.csv' which is info from '[RUN_NAME]\\_AF\\_info.csv' with local path to PDB if PDB reachable\n"
   ]
  },
  {
   "cell_type": "code",
   "execution_count": 4,
   "id": "ffe6bb5d-3708-4125-a4c9-703a2bc531b1",
   "metadata": {},
   "outputs": [],
   "source": [
    "CONFIG = {\n",
    "    'RUN_NAME': 'testFull',\n",
    "    'OUTPUT_DIR': './testFull/',\n",
    "    'PATH_TO_UNIPROTID_CSV': './demo_datasets/demo_llps_minus.csv',\n",
    "    'ID_FEATURE_NAME': \"Uniprot_ID\",\n",
    "    'LOCAL_ALPHAFOLD_PDB_DIRECTORIES': None,\n",
    "\n",
    "    # STATIC\n",
    "    'ACCESSION_DB_PATH': \".\\\\..\\\\AlphaFold\\\\accession_id_db.db\",\n",
    "    'ACCESSION_ID_TABLE_NAME': \"accession_ids\",\n",
    "    'TABLE_UNIPROT_ID_FEATURE_NAME': \"UniProtAccessionID\",\n",
    "    'ALPHAFOLD_ENDPOINT': 'https://alphafold.ebi.ac.uk/files/'\n",
    "}"
   ]
  },
  {
   "cell_type": "markdown",
   "id": "b385e894-017d-44e1-80f5-08a00c588dc8",
   "metadata": {},
   "source": [
    "### Uniprot_Full"
   ]
  },
  {
   "cell_type": "code",
   "execution_count": 5,
   "id": "ddf27195-42b8-4f25-a7e4-3ab8677d63ac",
   "metadata": {},
   "outputs": [
    {
     "name": "stdout",
     "output_type": "stream",
     "text": [
      "Found 84 IDs, 52 unique IDs\n",
      "Checking which have AlphaFold entries\n",
      "52 IDs ran, 50 matches, 2 no match\n",
      "Fetching PDBs for IDs with entries\n",
      "- - - FINISHED - - - \n",
      "52 IDs ran, 50 PDBs found, 2 no PDB found\n"
     ]
    }
   ],
   "source": [
    "# Full Function\n",
    "FETCH.Uniprot_Full(CONFIG)"
   ]
  },
  {
   "cell_type": "markdown",
   "id": "99b3aa47-19a8-4035-b108-93b33b262656",
   "metadata": {},
   "source": [
    "### Uniprot_Guess"
   ]
  },
  {
   "cell_type": "code",
   "execution_count": 3,
   "id": "4b2eecbf-3661-447f-bd28-0bebdf400b2f",
   "metadata": {},
   "outputs": [
    {
     "name": "stdout",
     "output_type": "stream",
     "text": [
      "Found 84 IDs, 52 unique IDs\n",
      "- - - FINISHED - - - \n",
      "52 IDs ran, 46 PDBs found, 6 no PDB found\n"
     ]
    }
   ],
   "source": [
    "# Guess Function (guesses alphafold pdb names from ID)\n",
    "CONFIG['RUN_NAME'] = 'testQuick'\n",
    "CONFIG['OUTPUT_DIR'] = 'testQuick'\n",
    "FETCH.Uniprot_Guess(CONFIG, assumedVersion=4)"
   ]
  },
  {
   "cell_type": "markdown",
   "id": "f9017234-59ab-47d9-8660-088b7454c1b1",
   "metadata": {},
   "source": [
    "### AlphaFoldPDBs"
   ]
  },
  {
   "cell_type": "code",
   "execution_count": 3,
   "id": "ad96ca93-47ac-4721-9f3a-fcf8451cff90",
   "metadata": {},
   "outputs": [
    {
     "name": "stdout",
     "output_type": "stream",
     "text": [
      "52 IDs ran, 46 PDBs found, 6 no PDB found\n"
     ]
    }
   ],
   "source": [
    "# PDB pulldown, requires list of pdb names\n",
    "# Note, if using this function \n",
    "#    PATH_TO_UNIPROTID_CSV should point to csv of AF pdb file names\n",
    "#    ID_FEATURE_NAME should be the column name of pdb names\n",
    "CONFIG['RUN_NAME'] = 'testPDBPullDown'\n",
    "CONFIG['OUTPUT_DIR'] = 'testPDBPullDown'\n",
    "CONFIG['PATH_TO_UNIPROTID_CSV'] = './demo_datasets/demo_llps_minus_pdbnames.csv'\n",
    "CONFIG['ID_FEATURE_NAME'] = \"PDB_FileName\"\n",
    "FETCH.AlphaFoldPDBs(CONFIG)"
   ]
  }
 ],
 "metadata": {
  "kernelspec": {
   "display_name": "Python [conda env:bio_play]",
   "language": "python",
   "name": "conda-env-bio_play-py"
  },
  "language_info": {
   "codemirror_mode": {
    "name": "ipython",
    "version": 3
   },
   "file_extension": ".py",
   "mimetype": "text/x-python",
   "name": "python",
   "nbconvert_exporter": "python",
   "pygments_lexer": "ipython3",
   "version": "3.10.8"
  }
 },
 "nbformat": 4,
 "nbformat_minor": 5
}
