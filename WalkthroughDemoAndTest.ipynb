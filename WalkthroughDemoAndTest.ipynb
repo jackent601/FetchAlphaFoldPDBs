{
 "cells": [
  {
   "cell_type": "code",
   "execution_count": 1,
   "id": "af90e6ef-dc65-4832-bc99-9704317f3ec4",
   "metadata": {},
   "outputs": [],
   "source": [
    "import sqlite3\n",
    "import pandas as pd\n",
    "import FetchAlphaFoldPDBs as FETCH\n",
    "import os\n",
    "import shutil\n",
    "\n",
    "ACCESSION_DB_PATH = \".\\\\..\\\\AlphaFold\\\\accession_id_db.db\"\n",
    "ACCESSION_ID_TABLE_NAME = \"accession_ids\"\n",
    "TABLE_UNIPROT_ID_FEATURE_NAME = \"UniProtAccessionID\""
   ]
  },
  {
   "cell_type": "markdown",
   "id": "1ec912cd-94c0-47c9-9a4b-52befb28034c",
   "metadata": {},
   "source": [
    "AlphaFold Database doesn't seem to have an API, instead an FTP server with all accession IDs mapped to AlphaFold IDs available [here](http://ftp.ebi.ac.uk/pub/databases/alphafold/)\n",
    "\n",
    "[This article](https://www.blopig.com/blog/2022/08/retrieving-alphafold-models-from-alphafolddb/) gives an example of retrieving alphafold models using the above however involves loading a 7gb csv into memory which is very slow and leads to memory errors\n",
    "\n",
    "So instead let's use a database approach and store accession IDs in a database which can be queried. \n",
    "\n",
    "- Note: it is much quicker to search a directory of pdb files however this DB approach is exhaustive in all available AlphaFold PDBs (which can subsequently be pulled from AF)\n",
    "\n",
    "- Note: Comparatively fast when searching multiple IDs as database can be queried for uniprotIDs at once\n",
    "\n",
    "- Note: Some IDs hyphenated '-', these are caught and reduced ID (without hyphen) searched if no match found for hyphen"
   ]
  },
  {
   "cell_type": "markdown",
   "id": "bdc9ba9a-02b9-457b-be84-3d9f2e1c5054",
   "metadata": {},
   "source": [
    "#### Set Up Database Connection to Accession Info\n",
    "\n",
    "Requires a local database of the accession IDs files available from [AlphaFolds FTP server](http://ftp.ebi.ac.uk/pub/databases/alphafold/)"
   ]
  },
  {
   "cell_type": "code",
   "execution_count": 2,
   "id": "2f8bb97c-1636-4470-a80b-62b124f9de44",
   "metadata": {},
   "outputs": [],
   "source": [
    "# Set Up Connections\n",
    "conn = sqlite3.connect(ACCESSION_DB_PATH)\n",
    "cur = conn.cursor()"
   ]
  },
  {
   "cell_type": "markdown",
   "id": "6a1dfc60-c69a-4751-b000-7332c3caffd7",
   "metadata": {},
   "source": [
    "#### Pull list of Uniprot IDs to Check\n",
    "This is the list of uniprot IDs needing to be queried, here llps_plus (see [pnas](https://www.pnas.org/doi/10.1073/pnas.2019053118)) used as a demo"
   ]
  },
  {
   "cell_type": "code",
   "execution_count": 3,
   "id": "386ef76d-7886-4e53-b6dc-0d716db5ad27",
   "metadata": {},
   "outputs": [],
   "source": [
    "DEMO_DATA_FILEPATH = \".\\\\demo_datasets\\\\demo_llps_minus.csv\"\n",
    "OUTPUT_FILEPATH = \".\\\\demo_datasets\\\\demo_llps_minus_AlphaFold_Info.csv\""
   ]
  },
  {
   "cell_type": "code",
   "execution_count": 4,
   "id": "ef318382-e9d1-4d51-95a0-1f3748475d82",
   "metadata": {},
   "outputs": [
    {
     "name": "stdout",
     "output_type": "stream",
     "text": [
      "84 IDs in llps minus, 52 of which are unique\n"
     ]
    }
   ],
   "source": [
    "# Get IDs to Query from demo data\n",
    "dataset_ID_column_name = 'Uniprot_ID'\n",
    "llpsPlusData = pd.read_csv(DEMO_DATA_FILEPATH)\n",
    "uniqueUniProtIDs = list(set(llpsPlusData[dataset_ID_column_name]))\n",
    "print(f'{len(llpsPlusData[dataset_ID_column_name])} IDs in llps minus, {len(uniqueUniProtIDs)} of which are unique')"
   ]
  },
  {
   "cell_type": "markdown",
   "id": "67a03d72-5b58-42d1-ad4b-3348f1c8b61a",
   "metadata": {},
   "source": [
    "#### Get AF info for each ID"
   ]
  },
  {
   "cell_type": "code",
   "execution_count": 5,
   "id": "05a14081-6cc4-43a4-b003-5895d2258d3d",
   "metadata": {
    "tags": []
   },
   "outputs": [],
   "source": [
    "# Get AF Identifiers from ID list\n",
    "AF_info = FETCH.getAndSaveAFinfoForListOfUniProtIDs(cur, uniqueUniProtIDs, OUTPUT_FILEPATH, debug=False)"
   ]
  },
  {
   "cell_type": "code",
   "execution_count": 7,
   "id": "7edfab24-7830-4fb2-bfa4-51a5d6cfbe3a",
   "metadata": {
    "tags": []
   },
   "outputs": [
    {
     "data": {
      "text/html": [
       "<div>\n",
       "<style scoped>\n",
       "    .dataframe tbody tr th:only-of-type {\n",
       "        vertical-align: middle;\n",
       "    }\n",
       "\n",
       "    .dataframe tbody tr th {\n",
       "        vertical-align: top;\n",
       "    }\n",
       "\n",
       "    .dataframe thead th {\n",
       "        text-align: right;\n",
       "    }\n",
       "</style>\n",
       "<table border=\"1\" class=\"dataframe\">\n",
       "  <thead>\n",
       "    <tr style=\"text-align: right;\">\n",
       "      <th></th>\n",
       "      <th>uniprot_ID_source</th>\n",
       "      <th>uniprot_ID_match</th>\n",
       "      <th>AF_DB_ID</th>\n",
       "      <th>firstResidueIndex</th>\n",
       "      <th>lastResidueIndex</th>\n",
       "      <th>latestVersion</th>\n",
       "    </tr>\n",
       "  </thead>\n",
       "  <tbody>\n",
       "    <tr>\n",
       "      <th>0</th>\n",
       "      <td>Q95XR4</td>\n",
       "      <td>Q95XR4</td>\n",
       "      <td>AF-Q95XR4-F1</td>\n",
       "      <td>1.0</td>\n",
       "      <td>690.0</td>\n",
       "      <td>4.0</td>\n",
       "    </tr>\n",
       "    <tr>\n",
       "      <th>1</th>\n",
       "      <td>P78352-3</td>\n",
       "      <td>P78352</td>\n",
       "      <td>AF-P78352-F1</td>\n",
       "      <td>1.0</td>\n",
       "      <td>724.0</td>\n",
       "      <td>4.0</td>\n",
       "    </tr>\n",
       "    <tr>\n",
       "      <th>2</th>\n",
       "      <td>Q9TZQ3</td>\n",
       "      <td>Q9TZQ3</td>\n",
       "      <td>AF-Q9TZQ3-F1</td>\n",
       "      <td>1.0</td>\n",
       "      <td>730.0</td>\n",
       "      <td>4.0</td>\n",
       "    </tr>\n",
       "    <tr>\n",
       "      <th>3</th>\n",
       "      <td>P35637</td>\n",
       "      <td>P35637</td>\n",
       "      <td>AF-P35637-F1</td>\n",
       "      <td>1.0</td>\n",
       "      <td>526.0</td>\n",
       "      <td>4.0</td>\n",
       "    </tr>\n",
       "    <tr>\n",
       "      <th>4</th>\n",
       "      <td>P22626</td>\n",
       "      <td>P22626</td>\n",
       "      <td>AF-P22626-F1</td>\n",
       "      <td>1.0</td>\n",
       "      <td>353.0</td>\n",
       "      <td>4.0</td>\n",
       "    </tr>\n",
       "  </tbody>\n",
       "</table>\n",
       "</div>"
      ],
      "text/plain": [
       "  uniprot_ID_source uniprot_ID_match      AF_DB_ID  firstResidueIndex  \\\n",
       "0            Q95XR4           Q95XR4  AF-Q95XR4-F1                1.0   \n",
       "1          P78352-3           P78352  AF-P78352-F1                1.0   \n",
       "2            Q9TZQ3           Q9TZQ3  AF-Q9TZQ3-F1                1.0   \n",
       "3            P35637           P35637  AF-P35637-F1                1.0   \n",
       "4            P22626           P22626  AF-P22626-F1                1.0   \n",
       "\n",
       "   lastResidueIndex  latestVersion  \n",
       "0             690.0            4.0  \n",
       "1             724.0            4.0  \n",
       "2             730.0            4.0  \n",
       "3             526.0            4.0  \n",
       "4             353.0            4.0  "
      ]
     },
     "execution_count": 7,
     "metadata": {},
     "output_type": "execute_result"
    }
   ],
   "source": [
    "AF_info.head()"
   ]
  },
  {
   "cell_type": "markdown",
   "id": "299cf8ee-fd68-4966-bd8d-d5c5905c60ff",
   "metadata": {},
   "source": [
    "#### Check If PDB Present, If Not Fetch It, copying all to a target directory\n",
    "\n",
    "Returns a dataframe linking original row with path to PDB\n",
    "\n",
    "(Could be sped up with multithreading but not currently worth the hassle)"
   ]
  },
  {
   "cell_type": "code",
   "execution_count": 8,
   "id": "aad1b36e-5104-4181-b099-3f4f92c6590f",
   "metadata": {},
   "outputs": [],
   "source": [
    "# target directory\n",
    "COLLECTED_PDBS_DIR = '.\\\\demo_datasets\\\\collected_pdbs'\n",
    "\n",
    "# List of directories that contain local pdb files\n",
    "LOCAL_ALPHAFOLD_PDB_DIRECTORIES = ['.\\\\demo_datasets\\\\local_pdbs']\n",
    "\n",
    "FINAL_OUTPUT_PATH = \".\\\\demo_datasets\\\\demo_llps_plus_AlphaFold_Info_with_PDB_Paths.csv\""
   ]
  },
  {
   "cell_type": "code",
   "execution_count": 9,
   "id": "f20d3568-133f-4564-9aa0-9495192fc950",
   "metadata": {
    "tags": []
   },
   "outputs": [
    {
     "name": "stdout",
     "output_type": "stream",
     "text": [
      "Q95XR4 (AF: AF-Q95XR4-F1-model_v4.pdb) not found locally, pulling from AlphaFold\n",
      "P78352-3 (AF: AF-P78352-F1-model_v4.pdb) not found locally, pulling from AlphaFold\n",
      "Q9TZQ3 (AF: AF-Q9TZQ3-F1-model_v4.pdb) not found locally, pulling from AlphaFold\n",
      "P35637 (AF: AF-P35637-F1-model_v4.pdb) found locally\n",
      "\tcopying .\\demo_datasets\\local_pdbs\\AF-P35637-F1-model_v4.pdb to .\\demo_datasets\\collected_pdbs\\AF-P35637-F1-model_v4.pdb\n",
      "P22626 (AF: AF-P22626-F1-model_v4.pdb) not found locally, pulling from AlphaFold\n",
      "O00571 (AF: AF-O00571-F1-model_v4.pdb) not found locally, pulling from AlphaFold\n",
      "A0A2K3DA85 (AF: AF-A0A2K3DA85-F1-model_v4.pdb) not found locally, pulling from AlphaFold\n",
      "C5MKY7 has no AF match\n",
      "P06748 (AF: AF-P06748-F1-model_v4.pdb) found locally\n",
      "\tcopying .\\demo_datasets\\local_pdbs\\AF-P06748-F1-model_v4.pdb to .\\demo_datasets\\collected_pdbs\\AF-P06748-F1-model_v4.pdb\n",
      "P40070 (AF: AF-P40070-F1-model_v4.pdb) not found locally, pulling from AlphaFold\n",
      "P42212 (AF: AF-P42212-F1-model_v4.pdb) not found locally, pulling from AlphaFold\n",
      "P83916 (AF: AF-P83916-F1-model_v4.pdb) not found locally, pulling from AlphaFold\n",
      "Q01860 (AF: AF-Q01860-F1-model_v4.pdb) not found locally, pulling from AlphaFold\n",
      "P15502 (AF: AF-P15502-F1-model_v4.pdb) not found locally, pulling from AlphaFold\n",
      "Q9W4I7 (AF: AF-Q9W4I7-F1-model_v4.pdb) not found locally, pulling from AlphaFold\n",
      "D0PV95 (AF: AF-D0PV95-F1-model_v4.pdb) not found locally, pulling from AlphaFold\n",
      "J3QQ18 has no AF match\n",
      "P04147 (AF: AF-P04147-F1-model_v4.pdb) found locally\n",
      "\tcopying .\\demo_datasets\\local_pdbs\\AF-P04147-F1-model_v4.pdb to .\\demo_datasets\\collected_pdbs\\AF-P04147-F1-model_v4.pdb\n",
      "Q75E28 (AF: AF-Q75E28-F1-model_v4.pdb) not found locally, pulling from AlphaFold\n",
      "Q9NSC5 (AF: AF-Q9NSC5-F1-model_v4.pdb) not found locally, pulling from AlphaFold\n",
      "Q06787 (AF: AF-Q06787-F1-model_v4.pdb) not found locally, pulling from AlphaFold\n",
      "O60500 (AF: AF-O60500-F1-model_v4.pdb) not found locally, pulling from AlphaFold\n",
      "Q9UHD9 (AF: AF-Q9UHD9-F1-model_v4.pdb) not found locally, pulling from AlphaFold\n",
      "O94752 (AF: AF-O94752-F1-model_v4.pdb) not found locally, pulling from AlphaFold\n",
      "O60563 (AF: AF-O60563-F1-model_v4.pdb) not found locally, pulling from AlphaFold\n",
      "P09651-2 (AF: AF-P09651-F1-model_v4.pdb) found locally\n",
      "\tcopying .\\demo_datasets\\local_pdbs\\AF-P09651-F1-model_v4.pdb to .\\demo_datasets\\collected_pdbs\\AF-P09651-F1-model_v4.pdb\n",
      "Q9NQI0 (AF: AF-Q9NQI0-F1-model_v4.pdb) not found locally, pulling from AlphaFold\n",
      "P31483 (AF: AF-P31483-F1-model_v4.pdb) not found locally, pulling from AlphaFold\n",
      "Q13148 (AF: AF-Q13148-F1-model_v4.pdb) not found locally, pulling from AlphaFold\n",
      "P40337 (AF: AF-P40337-F1-model_v4.pdb) not found locally, pulling from AlphaFold\n",
      "P01012 (AF: AF-P01012-F1-model_v4.pdb) not found locally, pulling from AlphaFold\n",
      "Q13627 (AF: AF-Q13627-F1-model_v4.pdb) not found locally, pulling from AlphaFold\n",
      "G5EC37 (AF: AF-G5EC37-F1-model_v4.pdb) not found locally, pulling from AlphaFold\n",
      "P16554 (AF: AF-P16554-F1-model_v4.pdb) not found locally, pulling from AlphaFold\n",
      "P19622 (AF: AF-P19622-F1-model_v4.pdb) not found locally, pulling from AlphaFold\n",
      "G5EBV6 (AF: AF-G5EBV6-F1-model_v4.pdb) found locally\n",
      "\tcopying .\\demo_datasets\\local_pdbs\\AF-G5EBV6-F1-model_v4.pdb to .\\demo_datasets\\collected_pdbs\\AF-G5EBV6-F1-model_v4.pdb\n",
      "P17600 (AF: AF-P17600-F1-model_v4.pdb) not found locally, pulling from AlphaFold\n",
      "P00873 (AF: AF-P00873-F1-model_v4.pdb) not found locally, pulling from AlphaFold\n",
      "P45973 (AF: AF-P45973-F1-model_v4.pdb) found locally\n",
      "\tcopying .\\demo_datasets\\local_pdbs\\AF-P45973-F1-model_v4.pdb to .\\demo_datasets\\collected_pdbs\\AF-P45973-F1-model_v4.pdb\n",
      "P05067 (AF: AF-P05067-F1-model_v4.pdb) not found locally, pulling from AlphaFold\n",
      "Q9D415 (AF: AF-Q9D415-F1-model_v4.pdb) not found locally, pulling from AlphaFold\n",
      "P04637 (AF: AF-P04637-F1-model_v4.pdb) not found locally, pulling from AlphaFold\n",
      "P39517 (AF: AF-P39517-F1-model_v4.pdb) not found locally, pulling from AlphaFold\n",
      "Q13501 (AF: AF-Q13501-F1-model_v4.pdb) not found locally, pulling from AlphaFold\n",
      "Q01844 (AF: AF-Q01844-F1-model_v4.pdb) not found locally, pulling from AlphaFold\n",
      "Q03513 (AF: AF-Q03513-F1-model_v4.pdb) not found locally, pulling from AlphaFold\n",
      "P32588 (AF: AF-P32588-F1-model_v4.pdb) not found locally, pulling from AlphaFold\n",
      "Q92804-2 (AF: AF-Q92804-F1-model_v4.pdb) not found locally, pulling from AlphaFold\n",
      "Q8SWR8 (AF: AF-Q8SWR8-F1-model_v4.pdb) not found locally, pulling from AlphaFold\n",
      "P25644 (AF: AF-P25644-F1-model_v4.pdb) not found locally, pulling from AlphaFold\n",
      "B7LV13 (AF: AF-B7LV13-F1-model_v4.pdb) not found locally, pulling from AlphaFold\n",
      "P10636-8 (AF: AF-P10636-F1-model_v4.pdb) not found locally, pulling from AlphaFold\n",
      "- - - FINISHED - - - \n"
     ]
    }
   ],
   "source": [
    "AF_info_with_PDB_paths = FETCH.fetchPDBsFromAlphaFoldInfoDataFrame(AF_info, COLLECTED_PDBS_DIR, LOCAL_ALPHAFOLD_PDB_DIRECTORIES, outputPath=FINAL_OUTPUT_PATH)"
   ]
  },
  {
   "cell_type": "markdown",
   "id": "9c15e5b0-0a0e-44d5-bf2b-faf7f390bc6a",
   "metadata": {},
   "source": [
    "#### All Available AlphaFold PDBs will now be present in target direcory"
   ]
  },
  {
   "cell_type": "code",
   "execution_count": 10,
   "id": "ff8521c1-8d1b-486e-8b94-7ebf20202cc7",
   "metadata": {},
   "outputs": [
    {
     "data": {
      "text/html": [
       "<div>\n",
       "<style scoped>\n",
       "    .dataframe tbody tr th:only-of-type {\n",
       "        vertical-align: middle;\n",
       "    }\n",
       "\n",
       "    .dataframe tbody tr th {\n",
       "        vertical-align: top;\n",
       "    }\n",
       "\n",
       "    .dataframe thead th {\n",
       "        text-align: right;\n",
       "    }\n",
       "</style>\n",
       "<table border=\"1\" class=\"dataframe\">\n",
       "  <thead>\n",
       "    <tr style=\"text-align: right;\">\n",
       "      <th></th>\n",
       "      <th>uniprot_ID_source</th>\n",
       "      <th>uniprot_ID_match</th>\n",
       "      <th>AF_DB_ID</th>\n",
       "      <th>firstResidueIndex</th>\n",
       "      <th>lastResidueIndex</th>\n",
       "      <th>latestVersion</th>\n",
       "      <th>PDB_path</th>\n",
       "    </tr>\n",
       "  </thead>\n",
       "  <tbody>\n",
       "    <tr>\n",
       "      <th>0</th>\n",
       "      <td>Q95XR4</td>\n",
       "      <td>Q95XR4</td>\n",
       "      <td>AF-Q95XR4-F1</td>\n",
       "      <td>1.0</td>\n",
       "      <td>690.0</td>\n",
       "      <td>4.0</td>\n",
       "      <td>.\\demo_datasets\\collected_pdbs\\AF-Q95XR4-F1-mo...</td>\n",
       "    </tr>\n",
       "    <tr>\n",
       "      <th>1</th>\n",
       "      <td>P78352-3</td>\n",
       "      <td>P78352</td>\n",
       "      <td>AF-P78352-F1</td>\n",
       "      <td>1.0</td>\n",
       "      <td>724.0</td>\n",
       "      <td>4.0</td>\n",
       "      <td>.\\demo_datasets\\collected_pdbs\\AF-P78352-F1-mo...</td>\n",
       "    </tr>\n",
       "    <tr>\n",
       "      <th>2</th>\n",
       "      <td>Q9TZQ3</td>\n",
       "      <td>Q9TZQ3</td>\n",
       "      <td>AF-Q9TZQ3-F1</td>\n",
       "      <td>1.0</td>\n",
       "      <td>730.0</td>\n",
       "      <td>4.0</td>\n",
       "      <td>.\\demo_datasets\\collected_pdbs\\AF-Q9TZQ3-F1-mo...</td>\n",
       "    </tr>\n",
       "    <tr>\n",
       "      <th>3</th>\n",
       "      <td>P35637</td>\n",
       "      <td>P35637</td>\n",
       "      <td>AF-P35637-F1</td>\n",
       "      <td>1.0</td>\n",
       "      <td>526.0</td>\n",
       "      <td>4.0</td>\n",
       "      <td>.\\demo_datasets\\collected_pdbs\\AF-P35637-F1-mo...</td>\n",
       "    </tr>\n",
       "    <tr>\n",
       "      <th>4</th>\n",
       "      <td>P22626</td>\n",
       "      <td>P22626</td>\n",
       "      <td>AF-P22626-F1</td>\n",
       "      <td>1.0</td>\n",
       "      <td>353.0</td>\n",
       "      <td>4.0</td>\n",
       "      <td>.\\demo_datasets\\collected_pdbs\\AF-P22626-F1-mo...</td>\n",
       "    </tr>\n",
       "  </tbody>\n",
       "</table>\n",
       "</div>"
      ],
      "text/plain": [
       "  uniprot_ID_source uniprot_ID_match      AF_DB_ID  firstResidueIndex  \\\n",
       "0            Q95XR4           Q95XR4  AF-Q95XR4-F1                1.0   \n",
       "1          P78352-3           P78352  AF-P78352-F1                1.0   \n",
       "2            Q9TZQ3           Q9TZQ3  AF-Q9TZQ3-F1                1.0   \n",
       "3            P35637           P35637  AF-P35637-F1                1.0   \n",
       "4            P22626           P22626  AF-P22626-F1                1.0   \n",
       "\n",
       "   lastResidueIndex  latestVersion  \\\n",
       "0             690.0            4.0   \n",
       "1             724.0            4.0   \n",
       "2             730.0            4.0   \n",
       "3             526.0            4.0   \n",
       "4             353.0            4.0   \n",
       "\n",
       "                                            PDB_path  \n",
       "0  .\\demo_datasets\\collected_pdbs\\AF-Q95XR4-F1-mo...  \n",
       "1  .\\demo_datasets\\collected_pdbs\\AF-P78352-F1-mo...  \n",
       "2  .\\demo_datasets\\collected_pdbs\\AF-Q9TZQ3-F1-mo...  \n",
       "3  .\\demo_datasets\\collected_pdbs\\AF-P35637-F1-mo...  \n",
       "4  .\\demo_datasets\\collected_pdbs\\AF-P22626-F1-mo...  "
      ]
     },
     "execution_count": 10,
     "metadata": {},
     "output_type": "execute_result"
    }
   ],
   "source": [
    "AF_info_with_PDB_paths.head()"
   ]
  }
 ],
 "metadata": {
  "kernelspec": {
   "display_name": "Python [conda env:bio_play]",
   "language": "python",
   "name": "conda-env-bio_play-py"
  },
  "language_info": {
   "codemirror_mode": {
    "name": "ipython",
    "version": 3
   },
   "file_extension": ".py",
   "mimetype": "text/x-python",
   "name": "python",
   "nbconvert_exporter": "python",
   "pygments_lexer": "ipython3",
   "version": "3.10.8"
  }
 },
 "nbformat": 4,
 "nbformat_minor": 5
}
